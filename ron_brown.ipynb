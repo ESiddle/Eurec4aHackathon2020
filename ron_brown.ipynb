{
 "cells": [
  {
   "cell_type": "markdown",
   "metadata": {},
   "source": [
    "To protect the login credentials of Aeris, they need to be entered by the user into the credentials.json and called to this script using the cell below."
   ]
  },
  {
   "cell_type": "code",
   "execution_count": null,
   "metadata": {},
   "outputs": [],
   "source": [
    "credentials = json.loads(open('credentials.json').read()) #don't forget to add the login credentials to the credentials.json file!\n",
    "\n",
    "username = credentials['username']\n",
    "password = credentials['pass']"
   ]
  },
  {
   "cell_type": "code",
   "execution_count": null,
   "metadata": {},
   "outputs": [],
   "source": [
    "!pip install pydap --user\n",
    "import pydap\n",
    "\n",
    "get_ipython().system('pip install wget --user')\n",
    "import wget\n",
    "\n",
    "wget -r -l1 --no-parent -A.nc 'http://' + username + ':'+ password +'@observations.ipsl.fr/thredds/dodsC/EUREC4A/INSITU/TSTS/FNCM/2020/20200202/FNCM_TSTS_20200202.nc'"
   ]
  },
  {
   "cell_type": "code",
   "execution_count": null,
   "metadata": {},
   "outputs": [],
   "source": [
    "import xarray as xr \n",
    "url='http://' + username + ':'+ password +'@observations.ipsl.fr/thredds/dodsC/EUREC4A/SHIPS/RV-METEOR/radiosondes/2020/NC/M161_SoundingDescentProfile_FS_Meteor_20200121_0024.nc'\n",
    "store=xr.backends.PydapDataStore.open(url)\n",
    "ds=xr.open_dataset(store)\n",
    "ds"
   ]
  },
  {
   "cell_type": "code",
   "execution_count": null,
   "metadata": {},
   "outputs": [],
   "source": []
  }
 ],
 "metadata": {
  "kernelspec": {
   "display_name": "Python 3",
   "language": "python",
   "name": "python3"
  },
  "language_info": {
   "codemirror_mode": {
    "name": "ipython",
    "version": 3
   },
   "file_extension": ".py",
   "mimetype": "text/x-python",
   "name": "python",
   "nbconvert_exporter": "python",
   "pygments_lexer": "ipython3",
   "version": "3.8.5"
  }
 },
 "nbformat": 4,
 "nbformat_minor": 4
}
