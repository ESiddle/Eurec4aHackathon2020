{
 "cells": [
  {
   "cell_type": "markdown",
   "metadata": {},
   "source": [
    "To protect the login credentials of Aeris, they need to be entered by the user into the credentials.json and called to this script using the cell below."
   ]
  },
  {
   "cell_type": "code",
   "execution_count": null,
   "metadata": {},
   "outputs": [],
   "source": [
    "credentials = json.loads(open('credentials.json').read()) #don't forget to add the login credentials to the credentials.json file!\n",
    "\n",
    "username = credentials['username']\n",
    "password = credentials['pass']"
   ]
  },
  {
   "cell_type": "code",
   "execution_count": null,
   "metadata": {
    "scrolled": true
   },
   "outputs": [],
   "source": [
    "!pip install pydap --user\n",
    "import pydap\n",
    "import pylab"
   ]
  },
  {
   "cell_type": "code",
   "execution_count": null,
   "metadata": {
    "scrolled": false
   },
   "outputs": [],
   "source": [
    "%matplotlib inline"
   ]
  },
  {
   "cell_type": "code",
   "execution_count": null,
   "metadata": {},
   "outputs": [],
   "source": [
    "import warnings\n",
    "warnings.simplefilter('ignore')"
   ]
  },
  {
   "cell_type": "code",
   "execution_count": null,
   "metadata": {},
   "outputs": [],
   "source": [
    "import xarray as xr \n",
    "import matplotlib.pyplot as plt\n",
    "from mpl_toolkits.mplot3d import Axes3D"
   ]
  },
  {
   "cell_type": "code",
   "execution_count": null,
   "metadata": {
    "scrolled": false
   },
   "outputs": [],
   "source": [
    "liste=['RHB_SoundingDescentProfile_15N54W_20200204_0026.nc','RHB_SoundingDescentProfile_15N54W_20200204_0420.nc','RHB_SoundingDescentProfile_15N54W_20200204_0813.nc','RHB_SoundingDescentProfile_15N54W_20200204_1218.nc','RHB_SoundingDescentProfile_15N54W_20200207_0447.nc']\n",
    "fig = plt.figure(3)\n",
    "ax = Axes3D(fig)\n",
    "for k in range(len(liste)):\n",
    "    url='http://' + username + ':'+ password +'@observations.ipsl.fr/thredds/dodsC/EUREC4A/SHIPS/RV-RONALDHBROWN/radiosonde/'+liste[k]\n",
    "    store =xr.backends.PydapDataStore.open(url)\n",
    "    ds=xr.open_dataset(store)\n",
    "    plt.figure(1)\n",
    "    plt.scatter(ds.flight_time.values,ds.altitude.values, c=ds.temperature.values)\n",
    "    plt.figure(2)\n",
    "    plt.scatter(ds.longitude.values,ds.latitude.values , c=ds.temperature.values)\n",
    "    ax.scatter(ds.latitude.values,ds.longitude.values, ds.altitude.values)\n",
    "plt.colorbar()"
   ]
  },
  {
   "cell_type": "code",
   "execution_count": null,
   "metadata": {},
   "outputs": [],
   "source": [
    "url='https://observations.ipsl.fr/aeris/eurec4a-data/INSITU/TSTS/WTEC/2020/20200212/WTEC_TSTS_20200212.nc'\n",
    "store =xr.backends.PydapDataStore.open(url)\n",
    "ds=xr.open_dataset(store)\n",
    "ds\n"
   ]
  },
  {
   "cell_type": "code",
   "execution_count": null,
   "metadata": {
    "scrolled": false
   },
   "outputs": [],
   "source": [
    "url='http://' + username + ':'+ password +'@observations.ipsl.fr/thredds/dodsC/EUREC4A/SHIPS/RV-RONALDHBROWN/radiosonde/RHB_SoundingDescentProfile_15N54W_20200207_1945.nc'\n",
    "store =xr.backends.PydapDataStore.open(url)\n",
    "ds=xr.open_dataset(store)\n",
    "ds"
   ]
  },
  {
   "cell_type": "code",
   "execution_count": null,
   "metadata": {},
   "outputs": [],
   "source": [
    "print(ds.temperature)"
   ]
  },
  {
   "cell_type": "code",
   "execution_count": null,
   "metadata": {},
   "outputs": [],
   "source": [
    "plt.scatter(ds.flight_time.values,ds.altitude.values, c=ds.temperature.values)"
   ]
  },
  {
   "cell_type": "code",
   "execution_count": null,
   "metadata": {
    "scrolled": true
   },
   "outputs": [],
   "source": [
    "import matplotlib.pyplot as plt\n",
    "plt.figure(1)\n",
    "plt.plot(ds.flight_time.values,ds.temperature.values,'*', color='b')\n",
    "plt.show()"
   ]
  },
  {
   "cell_type": "code",
   "execution_count": null,
   "metadata": {
    "scrolled": false
   },
   "outputs": [],
   "source": [
    "url='http://' + username + ':'+ password +'@observations.ipsl.fr/thredds/'\\\n",
    "'dodsC/EUREC4A/SATELLITES/GOES-E/2km_10min/2020/2020_02_03/'\\\n",
    "'clavrx_OR_ABI-L1b-RadF-M6C01_G16_s20200342040115_BARBADOS-2KM-FD.level2.nc'\n",
    "store =xr.backends.PydapDataStore.open(url)\n",
    "ds=xr.open_dataset(store)\n",
    "ds"
   ]
  },
  {
   "cell_type": "code",
   "execution_count": null,
   "metadata": {},
   "outputs": [],
   "source": [
    "import matplotlib.pyplot as plt\n",
    "fig = plt.figure(figsize=(6,6),dpi=200)\n",
    "im = plt.imshow(ds.refl_0_86um_nom, cmap='Greys_r')\n",
    "cb = fig.colorbar(im, orientation='horizontal')\n",
    "cb.set_ticks([1, 100, 200, 300, 400 , 500, 600])\n",
    "cb.set_label('Radiance (W m-2 sr-1 um-1)')\n",
    "plt.show()"
   ]
  },
  {
   "cell_type": "code",
   "execution_count": null,
   "metadata": {},
   "outputs": [],
   "source": []
  }
 ],
 "metadata": {
  "kernelspec": {
   "display_name": "Python 3",
   "language": "python",
   "name": "python3"
  },
  "language_info": {
   "codemirror_mode": {
    "name": "ipython",
    "version": 3
   },
   "file_extension": ".py",
   "mimetype": "text/x-python",
   "name": "python",
   "nbconvert_exporter": "python",
   "pygments_lexer": "ipython3",
   "version": "3.8.5"
  }
 },
 "nbformat": 4,
 "nbformat_minor": 4
}
