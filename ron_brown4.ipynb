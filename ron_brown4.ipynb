{
 "cells": [
  {
   "cell_type": "code",
   "execution_count": null,
   "metadata": {
    "scrolled": true
   },
   "outputs": [],
   "source": [
    "!pip install pydap --user\n",
    "import pydap\n",
    "import pylab"
   ]
  },
  {
   "cell_type": "markdown",
   "metadata": {},
   "source": [
    "To protect the login credentials of Aeris, they need to be entered by the user into the credentials.json and called to this script using the cell below."
   ]
  },
  {
   "cell_type": "code",
   "execution_count": null,
   "metadata": {},
   "outputs": [],
   "source": [
    "credentials = json.loads(open('credentials.json').read()) #don't forget to add the login credentials to the credentials.json file!\n",
    "\n",
    "username = credentials['username']\n",
    "password = credentials['pass']"
   ]
  },
  {
   "cell_type": "code",
   "execution_count": null,
   "metadata": {
    "scrolled": false
   },
   "outputs": [],
   "source": [
    "%matplotlib inline"
   ]
  },
  {
   "cell_type": "code",
   "execution_count": null,
   "metadata": {},
   "outputs": [],
   "source": [
    "import warnings\n",
    "warnings.simplefilter('ignore')"
   ]
  },
  {
   "cell_type": "code",
   "execution_count": null,
   "metadata": {},
   "outputs": [],
   "source": [
    "import xarray as xr \n",
    "import matplotlib.pyplot as plt\n",
    "from mpl_toolkits.mplot3d import Axes3D\n",
    "from matplotlib import cm\n"
   ]
  },
  {
   "cell_type": "code",
   "execution_count": null,
   "metadata": {
    "scrolled": true
   },
   "outputs": [],
   "source": [
    "#trajectories of radiosondes for some days, temperature profiles with altitude and temperature evolution during the flights\n",
    "liste=['RHB_SoundingDescentProfile_15N54W_20200204_0026.nc',\n",
    "       'RHB_SoundingDescentProfile_15N54W_20200204_0420.nc',\n",
    "       'RHB_SoundingDescentProfile_15N54W_20200204_0813.nc',\n",
    "       'RHB_SoundingDescentProfile_15N54W_20200204_1218.nc',\n",
    "       'RHB_SoundingDescentProfile_15N54W_20200207_0447.nc']\n",
    "fig = plt.figure(3)\n",
    "ax = Axes3D(fig)\n",
    "for k in range(len(liste)):\n",
    "    url='http://' + username + ':'+ password +'@observations.ipsl.fr/thredds/dodsC/EUREC4A/SHIPS/RV-RONALDHBROWN/radiosonde/'+liste[k]\n",
    "    store =xr.backends.PydapDataStore.open(url)\n",
    "    ds=xr.open_dataset(store)\n",
    "    plt.figure(1,figsize=(10,5))\n",
    "    plt.scatter(ds.flight_time.values,ds.altitude.values, c=ds.temperature.values)\n",
    "    plt.xlabel('time')\n",
    "    plt.ylabel('altitude [m]')\n",
    "    plt.figure(2)\n",
    "    plt.scatter(ds.longitude.values,ds.latitude.values , c=ds.temperature.values)\n",
    "    plt.xlabel('longitude [°]')\n",
    "    plt.ylabel('latitude [°]')\n",
    "    ax.scatter(ds.latitude.values,ds.longitude.values, ds.altitude.values,c='b')\n",
    "    ax.set_xlabel('longitude [°]')\n",
    "    ax.set_ylabel('latitude [°]')\n",
    "    ax.set_zlabel('altitude [m]')\n",
    "    #cbar=plt.colorbar(plot3d)\n",
    "    #cbar.set_label('Temperature')\n",
    "    #plt.show\n",
    "\n",
    "for i in range(1,3):\n",
    "    plt.figure(i)\n",
    "    plt.colorbar(label='Temperature [°C]')"
   ]
  },
  {
   "cell_type": "code",
   "execution_count": null,
   "metadata": {
    "scrolled": true
   },
   "outputs": [],
   "source": [
    "#only a test\n",
    "from mpl_toolkits.mplot3d import axes3d\n",
    "import matplotlib.pyplot as plt\n",
    "import numpy as np\n",
    "\n",
    "fig = plt.figure()\n",
    "ax = fig.gca(projection='3d')\n",
    "\n",
    "# Make the grid\n",
    "x, y, z = np.meshgrid(np.arange(-0.8, 1, 0.2),\n",
    "                      np.arange(-0.8, 1, 0.2),\n",
    "                      np.arange(-0.8, 1, 0.8))\n",
    "\n",
    "# Make the direction data for the arrows\n",
    "u = np.sin(np.pi * x) * np.cos(np.pi * y) * np.cos(np.pi * z)\n",
    "v = -np.cos(np.pi * x) * np.sin(np.pi * y) * np.cos(np.pi * z)\n",
    "w = (np.sqrt(2.0 / 3.0) * np.cos(np.pi * x) * np.cos(np.pi * y) *\n",
    "     np.sin(np.pi * z))\n",
    "\n",
    "ax.quiver(x,y,z, u, v, w, length=0.1, normalize=True)\n",
    "\n",
    "plt.show()\n"
   ]
  },
  {
   "cell_type": "code",
   "execution_count": null,
   "metadata": {
    "scrolled": true
   },
   "outputs": [],
   "source": [
    "#wind field from one radiosonde for some altitudes\n",
    "from mpl_toolkits.mplot3d import axes3d\n",
    "import matplotlib.pyplot as plt\n",
    "import numpy as np\n",
    "url='http://' + username + ':'+ password +'@observations.ipsl.fr/thredds/dodsC/EUREC4A/SHIPS/RV-RONALDHBROWN/radiosonde/RHB_SoundingDescentProfile_15N54W_20200204_0026.nc'\n",
    "store =xr.backends.PydapDataStore.open(url)\n",
    "ds2=xr.open_dataset(store)\n",
    "fig = plt.figure()\n",
    "ax = fig.gca(projection='3d')\n",
    "for k in range (0,884,50):\n",
    "    x, y, z = np.meshgrid(ds2.latitude[0,k],ds2.longitude[0,k],ds2.altitude[0,k]/1000.)\n",
    "    u=1*np.sin(ds2.windDirection[0,k])\n",
    "    v=1*np.cos(ds2.windDirection[0,k])\n",
    "    w=np.zeros(1)\n",
    "    ax.quiver(x,y,z, u, v, w,color='r',length=0.01)\n",
    "    #q.MaxHeadSize=10\n",
    "    #q.ShowArrowHead ='on'\n",
    "    #q.Color='r'\n",
    "    #q.Headaxislength=4.5\n",
    "plt.title('Wind Direction')\n",
    "ax.set_xlabel('longitude [°]')\n",
    "ax.set_ylabel('latitude [°]')\n",
    "ax.set_zlabel('altitude [km]')"
   ]
  },
  {
   "cell_type": "code",
   "execution_count": null,
   "metadata": {
    "scrolled": false
   },
   "outputs": [],
   "source": [
    "url='http://' + username + ':'+ password +'@observations.ipsl.fr/thredds/dodsC/EUREC4A/SHIPS/RV-RONALDHBROWN/radiosonde/RHB_SoundingDescentProfile_15N54W_20200207_1945.nc'\n",
    "store =xr.backends.PydapDataStore.open(url)\n",
    "ds=xr.open_dataset(store)\n",
    "ds"
   ]
  },
  {
   "cell_type": "code",
   "execution_count": null,
   "metadata": {
    "scrolled": true
   },
   "outputs": [],
   "source": [
    "plt.scatter(ds.flight_time.values,ds.altitude.values, c=ds.temperature.values)"
   ]
  },
  {
   "cell_type": "code",
   "execution_count": null,
   "metadata": {},
   "outputs": [],
   "source": [
    "url='http://' + username + ':'+ password +'@observations.ipsl.fr/thredds/dodsC/EUREC4A/SHIPS/RV-RONALDHBROWN/radiosonde/RHB_SoundingDescentProfile_15N54W_20200204_0026.nc'\n",
    "store =xr.backends.PydapDataStore.open(url)\n",
    "dsfrüh=xr.open_dataset(store)\n",
    "url='http://' + username + ':'+ password +'@observations.ipsl.fr/thredds/dodsC/EUREC4A/SHIPS/RV-RONALDHBROWN/radiosonde/RHB_SoundingDescentProfile_15N54W_20200204_0420.nc'\n",
    "store =xr.backends.PydapDataStore.open(url)\n",
    "dsdanach=xr.open_dataset(store)"
   ]
  },
  {
   "cell_type": "code",
   "execution_count": null,
   "metadata": {},
   "outputs": [],
   "source": [
    "import matplotlib.pyplot as plt\n",
    "#plt.figure(1,figsize=(10, 6))\n",
    "\n",
    "fig, ax1 = plt.subplots(figsize=(10, 6))\n",
    "color = 'tab:red'\n",
    "ax1.set_ylabel('temperature [°C]',fontsize=12,color=color)\n",
    "ax1.set_xlabel('time',fontsize=12)\n",
    "ax1.plot(dsfrüh.flight_time.values,dsfrüh.temperature.values, '*-',color=color)\n",
    "ax1.plot(dsdanach.flight_time.values,dsdanach.temperature.values, '*-',color=color)\n",
    "ax1.tick_params(axis='y', labelcolor=color)\n",
    "ax2 = ax1.twinx()\n",
    "color = 'tab:blue'\n",
    "ax2.set_ylabel('pressure [hpa]', color=color) \n",
    "ax2.plot(dsfrüh.flight_time.values,dsfrüh.pressure.values,'*',color=color)\n",
    "ax2.plot(dsdanach.flight_time.values,dsdanach.pressure.values,'*',color=color)\n",
    "ax2.tick_params(axis='y', labelcolor=color)\n",
    "fig.tight_layout()\n",
    "            \n",
    "            \n",
    "#plt.plot(dsfrüh.flight_time.values,dsfrüh.temperature.values,'*', color='b')\n",
    "#plt.plot(dsdanach.flight_time.values,dsdanach.temperature.values,'*', color='b', label='temperature')\n",
    "#plt.plot(dsfrüh.flight_time.values,dsfrüh.altitude.values,'*', color='r')\n",
    "#plt.plot(dsdanach.flight_time.values,dsdanach.altitude.values,'*', color='r',label='altitude')\n",
    "#plt.xlabel('time')\n",
    "#plt.ylabel('temperature [°C]')\n",
    "#plt.show()"
   ]
  },
  {
   "cell_type": "code",
   "execution_count": null,
   "metadata": {
    "scrolled": false
   },
   "outputs": [],
   "source": [
    "import matplotlib.pyplot as plt\n",
    "plt.figure(1)\n",
    "plt.plot(ds.flight_time.values,ds.temperature.values,'*', color='b')\n",
    "plt.show()"
   ]
  },
  {
   "cell_type": "code",
   "execution_count": null,
   "metadata": {
    "scrolled": false
   },
   "outputs": [],
   "source": [
    "#no TSG data are available for the Ron-Brown, only radiosonde data\n",
    "url='http://' + username + ':'+ password +'@observations.ipsl.fr/thredds/'\\\n",
    "'dodsC/EUREC4A/SATELLITES/GOES-E/2km_10min/2020/2020_02_03/'\\\n",
    "'clavrx_OR_ABI-L1b-RadF-M6C01_G16_s20200342040115_BARBADOS-2KM-FD.level2.nc'\n",
    "store =xr.backends.PydapDataStore.open(url)\n",
    "ds=xr.open_dataset(store)\n",
    "ds"
   ]
  },
  {
   "cell_type": "code",
   "execution_count": null,
   "metadata": {},
   "outputs": [],
   "source": [
    "import matplotlib.pyplot as plt\n",
    "fig = plt.figure(figsize=(6,6),dpi=200)\n",
    "im = plt.imshow(ds.refl_0_86um_nom, cmap='Greys_r')\n",
    "cb = fig.colorbar(im, orientation='horizontal')\n",
    "cb.set_ticks([1, 100, 200, 300, 400 , 500, 600])\n",
    "cb.set_label('Radiance (W m-2 sr-1 um-1)')\n",
    "plt.show()"
   ]
  },
  {
   "cell_type": "code",
   "execution_count": null,
   "metadata": {},
   "outputs": [],
   "source": []
  }
 ],
 "metadata": {
  "kernelspec": {
   "display_name": "Python 3",
   "language": "python",
   "name": "python3"
  },
  "language_info": {
   "codemirror_mode": {
    "name": "ipython",
    "version": 3
   },
   "file_extension": ".py",
   "mimetype": "text/x-python",
   "name": "python",
   "nbconvert_exporter": "python",
   "pygments_lexer": "ipython3",
   "version": "3.8.5"
  }
 },
 "nbformat": 4,
 "nbformat_minor": 4
}
