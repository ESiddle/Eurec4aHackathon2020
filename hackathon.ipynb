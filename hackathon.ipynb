{
 "cells": [
  {
   "cell_type": "markdown",
   "metadata": {},
   "source": [
    "# Creating a vertical temperature profile with L'Atalante data."
   ]
  },
  {
   "cell_type": "markdown",
   "metadata": {},
   "source": [
    "This notebook contains work from the eurec4a hackathon, collaboration with Imke and Agostino. \n",
    "Contact E.Siddle@uea.ac.uk"
   ]
  },
  {
   "cell_type": "code",
   "execution_count": null,
   "metadata": {},
   "outputs": [],
   "source": [
    "import pandas as pd\n",
    "from pathlib import Path\n",
    "from glob import glob\n",
    "import numpy as np\n",
    "from datetime import datetime,timedelta\n",
    "from tqdm.notebook import tqdm\n",
    "import pydap\n",
    "import xarray as xr\n",
    "import json"
   ]
  },
  {
   "cell_type": "markdown",
   "metadata": {},
   "source": [
    "To protect the login credentials of Aeris, they need to be entered by the user into the credentials.json and called to this script using the cell below."
   ]
  },
  {
   "cell_type": "code",
   "execution_count": null,
   "metadata": {},
   "outputs": [],
   "source": [
    "credentials = json.loads(open('credentials.json').read()) #don't forget to add the login credentials to the credentials.json file!\n",
    "\n",
    "username = credentials['username']\n",
    "password = credentials['pass']"
   ]
  },
  {
   "cell_type": "code",
   "execution_count": null,
   "metadata": {},
   "outputs": [],
   "source": [
    "%pylab inline\n",
    "import warnings\n",
    "warnings.simplefilter(\"ignore\") "
   ]
  },
  {
   "cell_type": "code",
   "execution_count": null,
   "metadata": {},
   "outputs": [],
   "source": [
    "#altalante radiosonde filenames on aeris\n",
    "listoffiles = ['ATL_SoundingAscentProfile_Atalante_20200203_181013.nc',# for 2020/02/03\n",
    "               'ATL_SoundingAscentProfile_Atalante_20200203_172206.nc',\n",
    "               'ATL_SoundingAscentProfile_Atalante_20200203_163038.nc',\n",
    "               'ATL_SoundingAscentProfile_Atalante_20200203_160233.nc',\n",
    "               'ATL_SoundingAscentProfile_Atalante_20200203_151307.nc',\n",
    "               'ATL_SoundingAscentProfile_Atalante_20200203_142654.nc',\n",
    "               'ATL_SoundingAscentProfile_Atalante_20200203_133344.nc',\n",
    "               'ATL_SoundingAscentProfile_Atalante_20200203_124800.nc',\n",
    "               'ATL_SoundingAscentProfile_Atalante_20200203_115848.nc',\n",
    "               'ATL_SoundingAscentProfile_Atalante_20200203_111124.nc',\n",
    "               'ATL_SoundingAscentProfile_Atalante_20200203_102156.nc',\n",
    "               'ATL_SoundingAscentProfile_Atalante_20200203_093716.nc',\n",
    "               'ATL_SoundingAscentProfile_Atalante_20200203_084812.nc',\n",
    "               'ATL_SoundingAscentProfile_Atalante_20200203_080241.nc',\n",
    "               'ATL_SoundingAscentProfile_Atalante_20200203_071850.nc',\n",
    "               'ATL_SoundingAscentProfile_Atalante_20200203_062700.nc',\n",
    "               'ATL_SoundingAscentProfile_Atalante_20200203_054035.nc',\n",
    "               'ATL_SoundingAscentProfile_Atalante_20200203_043648.nc',\n",
    "               'ATL_SoundingAscentProfile_Atalante_20200203_034602.nc',\n",
    "               'ATL_SoundingAscentProfile_Atalante_20200203_025445.nc',\n",
    "               'ATL_SoundingAscentProfile_Atalante_20200203_020400.nc',\n",
    "               'ATL_SoundingAscentProfile_Atalante_20200203_012142.nc',\n",
    "               'ATL_SoundingAscentProfile_Atalante_20200203_002908.nc']\n",
    "listoffiles2 = ['ATL_SoundingAscentProfile_Atalante_20200203_233642.nc', #for 2020/02/02\n",
    "                'ATL_SoundingAscentProfile_Atalante_20200203_224034.nc',\n",
    "                'ATL_SoundingAscentProfile_Atalante_20200203_214956.nc',\n",
    "                'ATL_SoundingAscentProfile_Atalante_20200203_210007.nc',\n",
    "                'ATL_SoundingAscentProfile_Atalante_20200202_201504.nc',\n",
    "                'ATL_SoundingAscentProfile_Atalante_20200202_193236.nc']"
   ]
  },
  {
   "cell_type": "code",
   "execution_count": null,
   "metadata": {},
   "outputs": [],
   "source": [
    "#find max and min temperatures for later colour scale normalization\n",
    "for k in range(len(listoffiles2)):\n",
    "    url = 'http://' + username + ':'+ password +'@observations.ipsl.fr/thredds/dodsC/EUREC4A/SHIPS/RV-ATALANTE/RADIOSOUNDING/METEOMODEM/NetCDF/2020/2020_02_02/'+listoffiles2[k]\n",
    "    store = xr.backends.PydapDataStore.open(url)\n",
    "    rs = xr.open_dataset(store)\n",
    "    print(rs.temperature.max(), rs.temperature.min())\n",
    "    # Plot a scatterplot on a time-altitude section of temperature\n",
    "    #plt.scatter(rs.flight_time.values,rs.altitude.values,c=rs.temperature.values)"
   ]
  },
  {
   "cell_type": "code",
   "execution_count": null,
   "metadata": {},
   "outputs": [],
   "source": [
    "#find max and min temperatures for later colour scale normalization\n",
    "for k in range(len(listoffiles)):\n",
    "    url = 'http://' + username + ':'+ password +'@observations.ipsl.fr/thredds/dodsC/EUREC4A/SHIPS/RV-ATALANTE/RADIOSOUNDING/METEOMODEM/NetCDF/2020/2020_02_03/'+listoffiles[k]\n",
    "    store = xr.backends.PydapDataStore.open(url)\n",
    "    rs = xr.open_dataset(store)\n",
    "    print(rs.temperature.max(), rs.temperature.min())\n",
    "    # Plot a scatterplot on a time-altitude section of temperature\n",
    "    #plt.scatter(rs.flight_time.values,rs.altitude.values,c=rs.temperature.values)"
   ]
  },
  {
   "cell_type": "code",
   "execution_count": null,
   "metadata": {},
   "outputs": [],
   "source": [
    "#set path to current working directory\n",
    "work_dir = Path.cwd()"
   ]
  },
  {
   "cell_type": "code",
   "execution_count": null,
   "metadata": {},
   "outputs": [],
   "source": [
    "# open some locally stored L'atalante TSG data (previously downloaded from aeris).\n",
    "tsg = xr.open_dataset(work_dir /'data'/'FNCM_TSTS_20200202.nc')\n",
    "tsg2 = xr.open_dataset(work_dir /'data'/'FNCM_TSTS_20200203.nc')\n",
    "tsg"
   ]
  },
  {
   "cell_type": "code",
   "execution_count": null,
   "metadata": {},
   "outputs": [],
   "source": [
    "#identify min, max tsg temperatures\n",
    "print(tsg.SSJT.min(),tsg.SSJT.max(),tsg2.SSJT.min(),tsg2.SSJT.max())"
   ]
  },
  {
   "cell_type": "code",
   "execution_count": null,
   "metadata": {},
   "outputs": [],
   "source": [
    "#plot tsg timeseries\n",
    "fig,ax = plt.subplots(1,1, figsize=(18, 15))\n",
    "ax.plot(tsg.TIME, tsg.SSJT)\n",
    "ax.set_ylabel('temp')\n",
    "ax.set_xlabel('Time')"
   ]
  },
  {
   "cell_type": "markdown",
   "metadata": {},
   "source": [
    "Plot radiosonde and TSG data for L'Atalante on 2020/02/02 and 2020/02/03."
   ]
  },
  {
   "cell_type": "code",
   "execution_count": null,
   "metadata": {},
   "outputs": [],
   "source": [
    "#import a few extra plotting packages\n",
    "from matplotlib.collections import LineCollection\n",
    "from matplotlib import colors\n",
    "import matplotlib\n",
    "import matplotlib.ticker as mticker"
   ]
  },
  {
   "cell_type": "code",
   "execution_count": null,
   "metadata": {},
   "outputs": [],
   "source": [
    "#update plotting parameters for larger font\n",
    "font_size=18\n",
    "plt.rcParams.update({'font.size': font_size})"
   ]
  },
  {
   "cell_type": "code",
   "execution_count": null,
   "metadata": {},
   "outputs": [],
   "source": [
    "#set colour scale normalisation and colourmap for sounding data\n",
    "normalize = colors.Normalize(vmin=-35.2 , vmax=30) # scale colourbar and plots to this temp range(max and min of soundings plotted here)\n",
    "cmap = cm.get_cmap('viridis')\n",
    "#set up figure with subplots\n",
    "fig,ax = plt.subplots(2,1, figsize=(18, 15), sharex=True, gridspec_kw={\"height_ratios\": [3, 1]})\n",
    "ax =ax.ravel()\n",
    "#loop through files list of desired soundings to plot in ax[0]\n",
    "for k in range(len(listoffiles)):\n",
    "    url='http://' + username + ':'+ password +'@observations.ipsl.fr/thredds/dodsC/EUREC4A/SHIPS/RV-ATALANTE/RADIOSOUNDING/METEOMODEM/NetCDF/2020/2020_02_03/'+listoffiles[k]\n",
    "    store =xr.backends.PydapDataStore.open(url)\n",
    "    ds=xr.open_dataset(store)\n",
    "    ax[0].scatter(ds.flight_time.values,ds.altitude.values,c=ds.temperature.values, cmap = cmap, norm=normalize)\n",
    "for k in range(len(listoffiles2)):\n",
    "    url='http://' + username + ':'+ password +'@observations.ipsl.fr/thredds/dodsC/EUREC4A/SHIPS/RV-ATALANTE/RADIOSOUNDING/METEOMODEM/NetCDF/2020/2020_02_02/'+listoffiles2[k]\n",
    "    store =xr.backends.PydapDataStore.open(url)\n",
    "    ds=xr.open_dataset(store)\n",
    "    ax[0].scatter(ds.flight_time.values,ds.altitude.values,c=ds.temperature.values, cmap = cmap, norm=normalize)\n",
    "\n",
    "ax[0].set_ylim(0,10000)\n",
    "#ax[1].set_ylim(-3.6,-3.4)\n",
    "ax[1].plot(tsg.TIME, tsg.SSJT, color='black')\n",
    "ax[1].plot(tsg2.TIME, tsg2.SSJT, color = 'black')\n",
    "#ax.scatter(tsg.TIME, -(tsg.DEPH), c=tsg.SSJT, norm=normalize,cmap=cmap)\n",
    "#ax.scatter(tsg2.TIME, -(tsg2.DEPH), c=tsg2.SSJT, norm=normalize,cmap=cmap)\n",
    "ax[1].set_xlim(datetime.datetime(2020,2,2,18),datetime.datetime(2020,2,4,0))\n",
    "ax[0].set_ylabel('Height [m]')\n",
    "ax[1].set_ylabel('Sea Temperature at 3.5m depth [$^\\circ$C]')\n",
    "ax[1].set_xlabel('Time')\n",
    "plt.xticks(rotation=45)\n",
    "plt.subplots_adjust(wspace=0, hspace=0.05)\n",
    "\n",
    "cbar = fig.colorbar( matplotlib.cm.ScalarMappable(cmap=cmap, norm=normalize),ax=ax,orientation='vertical',label='Air Temperature [$^\\circ$C]')"
   ]
  },
  {
   "cell_type": "code",
   "execution_count": null,
   "metadata": {},
   "outputs": [],
   "source": [
    "#set colour scale normalisation and colourmap for sounding data\n",
    "normalizeb = colors.Normalize(vmin=20 , vmax=30) # scale colourbar and plots to this temp range(max and min of soundings plotted here)\n",
    "cmap = cm.get_cmap('viridis')\n",
    "#set up figure\n",
    "fig,ax = plt.subplots(1,1, figsize=(18, 15))\n",
    "ax.set_ylim(-5,50)\n",
    "#loop through files list of desired soundings to plot in ax[0]\n",
    "for k in range(len(listoffiles)):\n",
    "    url='http://' + username + ':'+ password +'@observations.ipsl.fr/thredds/dodsC/EUREC4A/SHIPS/RV-ATALANTE/RADIOSOUNDING/METEOMODEM/NetCDF/2020/2020_02_03/'+listoffiles[k]\n",
    "    store =xr.backends.PydapDataStore.open(url)\n",
    "    ds=xr.open_dataset(store)\n",
    "    ax.scatter(ds.flight_time.values,ds.altitude.values,c=ds.temperature.values, cmap = cmap, norm=normalizeb)\n",
    "for k in range(len(listoffiles2)):\n",
    "    url='http://' + username + ':'+ password +'@observations.ipsl.fr/thredds/dodsC/EUREC4A/SHIPS/RV-ATALANTE/RADIOSOUNDING/METEOMODEM/NetCDF/2020/2020_02_02/'+listoffiles2[k]\n",
    "    store =xr.backends.PydapDataStore.open(url)\n",
    "    ds=xr.open_dataset(store)\n",
    "    ax.scatter(ds.flight_time.values,ds.altitude.values,c=ds.temperature.values, cmap = cmap, norm=normalizeb)\n",
    "\n",
    "ax.scatter(tsg.TIME, -(tsg.DEPH), c=tsg.SSJT, norm=normalizeb,cmap=cmap)\n",
    "ax.scatter(tsg2.TIME, -(tsg2.DEPH), c=tsg2.SSJT, norm=normalizeb,cmap=cmap)\n",
    "ax.set_xlim(datetime.datetime(2020,2,2,18),datetime.datetime(2020,2,4,0))\n",
    "ax.set_ylabel('Height [m]')\n",
    "ax.set_xlabel('Time')\n",
    "plt.xticks(rotation=45)\n",
    "\n",
    "cbar = fig.colorbar( matplotlib.cm.ScalarMappable(cmap=cmap, norm=normalizeb),ax=ax,orientation='vertical',label='Air Temperature [$^\\circ$C]')"
   ]
  },
  {
   "cell_type": "code",
   "execution_count": null,
   "metadata": {},
   "outputs": [],
   "source": []
  }
 ],
 "metadata": {
  "kernelspec": {
   "display_name": "Python 3",
   "language": "python",
   "name": "python3"
  },
  "language_info": {
   "codemirror_mode": {
    "name": "ipython",
    "version": 3
   },
   "file_extension": ".py",
   "mimetype": "text/x-python",
   "name": "python",
   "nbconvert_exporter": "python",
   "pygments_lexer": "ipython3",
   "version": "3.8.5"
  }
 },
 "nbformat": 4,
 "nbformat_minor": 4
}
